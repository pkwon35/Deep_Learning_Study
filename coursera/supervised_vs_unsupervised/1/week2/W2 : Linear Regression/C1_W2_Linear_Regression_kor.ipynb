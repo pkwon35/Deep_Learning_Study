{
 "cells": [
  {
   "cell_type": "markdown",
   "metadata": {},
   "source": [
    "### [Coursera:machine-learning-specialization] 1. Supervised vs. Unsupervised Machine Learning\n",
    "# W2 : Linear Regression\n",
    "\n",
    "\n",
    "### 레스토랑 프랜차이즈의 수익을 예측하기 위해 하나의 변수로 선형 회귀를 구현합니다"
   ]
  },
  {
   "cell_type": "markdown",
   "metadata": {},
   "source": [
    "## 1) 필요 패키지 호출\n",
    "\n"
   ]
  },
  {
   "cell_type": "code",
   "execution_count": 5,
   "metadata": {},
   "outputs": [],
   "source": [
    "import numpy as np                  # 파이썬에서 매트릭스 다룰때 사용하는 기본 툴\n",
    "import matplotlib.pyplot as plt     # 시각화용 패키지\n",
    "from utils import *                 # load_data, load_data_multi 커스텀 함수 불러오기\n",
    "import copy                         \n",
    "import math\n",
    "%matplotlib inline"
   ]
  },
  {
   "cell_type": "markdown",
   "metadata": {},
   "source": [
    "## 2) 문제 정의\n",
    "\n",
    "### 프랜차이즈 레스토랑의 CEO로 새로운 매장을 열기 위해 여러 도시를 고려하고 있다고 가정합시다.\n",
    "- 더 높은 수익을 줄 수 있는 도시로 비즈니스를 확장하고자 합니다\n",
    "- 이미 여러 도시에 레스토랑이 있으며 도시의 수익 및 인구에 대한 데이터가 있습니다\n",
    "- 또한 새로운 레스토랑의 후보 도시에 대한 데이터를 가지고 있습니다\n",
    "    - 이 도시의 경우 도시인구가 있습니다\n",
    "\n",
    "#### 데이터를 사용해 비지니스에 잠재적으로 더 높은 수익을 줄 수 있는 도시를 식별해 봅시다.\n"
   ]
  },
  {
   "cell_type": "markdown",
   "metadata": {},
   "source": [
    "## 3) 데이터셋 정의\n",
    "\n",
    "### 해당 task에 필요한 데이터를 불러옵니다\n",
    "- x_train, y_train으로 load_data() 함수를 사용해 불러옵니다\n",
    "    - x_train : 도시의 인구 수\n",
    "    - y_train : 해당 도시에 있는 레스토랑의 수익 (음수는 손실)\n",
    "    - x_train, y_train 은 numpy arrays 형식입니다\n"
   ]
  },
  {
   "cell_type": "code",
   "execution_count": 6,
   "metadata": {},
   "outputs": [],
   "source": [
    "# 데이터 불러오기\n",
    "x_train, y_train = load_data()"
   ]
  },
  {
   "cell_type": "code",
   "execution_count": 13,
   "metadata": {},
   "outputs": [
    {
     "name": "stdout",
     "output_type": "stream",
     "text": [
      "x0: 6.1101 y0: 17.592\n",
      "x1: 5.5277 y1: 9.1302\n",
      "x2: 8.5186 y2: 13.662\n",
      "len x_train :  97\n"
     ]
    }
   ],
   "source": [
    "# 데이터 확인\n",
    "print(\"x0:\",x_train[0],\"y0:\",y_train[0])\n",
    "print(\"x1:\",x_train[1],\"y1:\",y_train[1])\n",
    "print(\"x2:\",x_train[2],\"y2:\",y_train[2])\n",
    "print(\"len x_train : \",len(x_train))"
   ]
  },
  {
   "cell_type": "code",
   "execution_count": 16,
   "metadata": {},
   "outputs": [
    {
     "name": "stdout",
     "output_type": "stream",
     "text": [
      "x_train 차원확인:  (97,)\n",
      "y_train 차원확인:  (97,)\n"
     ]
    }
   ],
   "source": [
    "print ('x_train 차원확인: ', x_train.shape)\n",
    "print ('y_train 차원확인: ', y_train.shape)"
   ]
  },
  {
   "cell_type": "markdown",
   "metadata": {},
   "source": [
    "### 데이터 시각화\n",
    "\n",
    "- scatter plot을 사용해 데이터를 시각화 합니다. (profit vs population)"
   ]
  },
  {
   "cell_type": "code",
   "execution_count": 19,
   "metadata": {},
   "outputs": [
    {
     "data": {
      "image/png": "[encoded data removed]",
      "text/plain": [
       "<Figure size 432x288 with 1 Axes>"
      ]
     },
     "metadata": {
      "needs_background": "light"
     },
     "output_type": "display_data"
    }
   ],
   "source": [
    "plt.scatter(x_train, y_train, marker='o', c='blue') \n",
    "plt.title(\"수익 vs. 도시 인구 수\")\n",
    "plt.ylabel('수익 / $10,000')\n",
    "plt.xlabel('인구 수 / 10,000')\n",
    "plt.show()"
   ]
  },
  {
   "cell_type": "markdown",
   "metadata": {},
   "source": [
    "## 4) 선형 회귀 복습\n",
    "\n",
    "- (w , b)를 사용해 선형회귀의 파라미터를 지정합니다.\n",
    "\n",
    "$$f_{w,b}(x) = wx + b$$\n",
    "\n",
    "- 선형회귀 모델을 학습하기 위해서는, (w,b)가 가장 적절한 "
   ]
  },
  {
   "cell_type": "markdown",
   "metadata": {},
   "source": []
  },
  {
   "cell_type": "markdown",
   "metadata": {},
   "source": []
  }
 ],
 "metadata": {
  "interpreter": {
   "hash": "5340d7c85163bb69efbd32fbc19e34d6ea452de67950a987e7f1dcfdb7548be0"
  },
  "kernelspec": {
   "display_name": "Python 3.9.12 ('base')",
   "language": "python",
   "name": "python3"
  },
  "language_info": {
   "codemirror_mode": {
    "name": "ipython",
    "version": 3
   },
   "file_extension": ".py",
   "mimetype": "text/x-python",
   "name": "python",
   "nbconvert_exporter": "python",
   "pygments_lexer": "ipython3",
   "version": "3.9.12"
  },
  "orig_nbformat": 4
 },
 "nbformat": 4,
 "nbformat_minor": 2
}
